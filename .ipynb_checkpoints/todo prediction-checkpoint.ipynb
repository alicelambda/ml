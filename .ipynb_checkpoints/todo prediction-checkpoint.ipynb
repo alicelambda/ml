{
 "cells": [
  {
   "cell_type": "code",
   "execution_count": 25,
   "metadata": {},
   "outputs": [
    {
     "name": "stdout",
     "output_type": "stream",
     "text": [
      "The tensorboard extension is already loaded. To reload it, use:\n",
      "  %reload_ext tensorboard\n"
     ]
    }
   ],
   "source": [
    "import tensorflow as tf\n",
    "from tensorflow import keras\n",
    "from sklearn.model_selection import train_test_split\n",
    "import random\n",
    "import datetime\n",
    "%load_ext tensorboard\n",
    "from google.cloud import datastore\n",
    "import os\n",
    "import numpy as np\n",
    "os.environ[\"GOOGLE_APPLICATION_CREDENTIALS\"] = \\\n",
    "    \"/home/alice/Downloads/HCL-customer-application-c05a56fa9ccc.json\"\n",
    "\n",
    "client = datastore.Client()\n"
   ]
  },
  {
   "cell_type": "markdown",
   "metadata": {},
   "source": [
    "# Load title and Subject data for prediction"
   ]
  },
  {
   "cell_type": "code",
   "execution_count": 26,
   "metadata": {},
   "outputs": [
    {
     "name": "stdout",
     "output_type": "stream",
     "text": [
      "[['dev', 'bayesian optimization'], ['dev', 'GCP MOre data'], ['m340l', 'pass fail m340l'], ['dev', 'meow UI updates'], ['dev', 'meow UI updates'], ['dev', 'meow UI updates'], ['dev', 'meow UI updates'], ['dev', 'meow UI updates']]\n",
      "[[450]\n",
      " [450]\n",
      " [270]\n",
      " [360]\n",
      " [360]\n",
      " [360]\n",
      " [360]\n",
      " [360]]\n"
     ]
    }
   ],
   "source": [
    "query = client.query(kind=\"tododata\")\n",
    "x = []\n",
    "y = []\n",
    "z = []\n",
    "for i in query.fetch():\n",
    "    x.append([i['subject'], i['title']])\n",
    "    y.append([i['totalcoins']])\n",
    "    z.append(i['prev'])\n",
    "y = np.asarray(y)\n",
    "print(x)\n",
    "print(y)"
   ]
  },
  {
   "cell_type": "code",
   "execution_count": 27,
   "metadata": {},
   "outputs": [
    {
     "data": {
      "text/plain": [
       "[[<Entity {'subject': 'm340l', 'timestamp': datetime.datetime(2020, 5, 18, 0, 55, 5, 232264, tzinfo=<UTC>), 'time': 10, 'description': '', 'title': 'pass fail m340l'}>,\n",
       "  <Entity {'title': 'GCP MOre data', 'subject': 'dev', 'timestamp': datetime.datetime(2020, 5, 18, 2, 18, 40, 228432, tzinfo=<UTC>), 'time': 25, 'description': ''}>,\n",
       "  <Entity {'time': 25, 'description': '', 'title': 'GCP MOre data', 'subject': 'dev', 'timestamp': datetime.datetime(2020, 5, 18, 2, 43, 49, 244312, tzinfo=<UTC>)}>],\n",
       " [<Entity {'title': 'pass fail m340l', 'timestamp': datetime.datetime(2020, 5, 18, 0, 55, 5, 232264, tzinfo=<UTC>), 'subject': 'm340l', 'time': 10, 'description': ''}>],\n",
       " [],\n",
       " [<Entity {'timestamp': datetime.datetime(2020, 5, 19, 0, 11, 2, 151382, tzinfo=<UTC>), 'subject': 'dev', 'time': 25, 'description': '', 'title': 'meow UI updates'}>,\n",
       "  <Entity {'subject': 'dev', 'timestamp': datetime.datetime(2020, 5, 19, 0, 39, 16, 513297, tzinfo=<UTC>), 'time': 25, 'description': '', 'title': 'meow UI updates'}>,\n",
       "  <Entity {'time': 15, 'description': '', 'title': 'meow UI updates', 'timestamp': datetime.datetime(2020, 5, 19, 0, 54, 41, 954718, tzinfo=<UTC>), 'subject': 'dev'}>],\n",
       " [],\n",
       " [<Entity {'title': 'meow UI updates', 'subject': 'dev', 'timestamp': datetime.datetime(2020, 5, 19, 0, 11, 2, 151382, tzinfo=<UTC>), 'time': 25, 'description': ''}>],\n",
       " [<Entity {'time': 25, 'description': '', 'title': 'meow UI updates', 'timestamp': datetime.datetime(2020, 5, 19, 0, 11, 2, 151382, tzinfo=<UTC>), 'subject': 'dev'}>,\n",
       "  <Entity {'description': '', 'title': 'meow UI updates', 'subject': 'dev', 'timestamp': datetime.datetime(2020, 5, 19, 0, 39, 16, 513297, tzinfo=<UTC>), 'time': 25}>],\n",
       " [<Entity {'time': 25, 'description': '', 'title': 'meow UI updates', 'subject': 'dev', 'timestamp': datetime.datetime(2020, 5, 19, 0, 11, 2, 151382, tzinfo=<UTC>)}>,\n",
       "  <Entity {'time': 25, 'description': '', 'title': 'meow UI updates', 'subject': 'dev', 'timestamp': datetime.datetime(2020, 5, 19, 0, 39, 16, 513297, tzinfo=<UTC>)}>,\n",
       "  <Entity {'time': 15, 'description': '', 'title': 'meow UI updates', 'subject': 'dev', 'timestamp': datetime.datetime(2020, 5, 19, 0, 54, 41, 954718, tzinfo=<UTC>)}>,\n",
       "  <Entity {'timestamp': datetime.datetime(2020, 5, 19, 1, 5, 21, 433035, tzinfo=<UTC>), 'subject': 'dev', 'time': 10, 'description': '', 'title': 'meow UI updates'}>]]"
      ]
     },
     "execution_count": 27,
     "metadata": {},
     "output_type": "execute_result"
    }
   ],
   "source": [
    "z"
   ]
  },
  {
   "cell_type": "code",
   "execution_count": 89,
   "metadata": {},
   "outputs": [
    {
     "data": {
      "text/plain": [
       "array([[[ 0,  0,  0,  0,  1,  1,  0,  1,  0,  0,  1, 10],\n",
       "        [ 1,  1,  0,  1,  0,  0,  0,  0,  0,  1,  0, 25],\n",
       "        [ 1,  1,  0,  1,  0,  0,  0,  0,  0,  1,  0, 25],\n",
       "        [ 0,  0,  0,  0,  0,  0,  0,  0,  0,  0,  0,  0]],\n",
       "\n",
       "       [[ 0,  0,  0,  0,  1,  1,  0,  1,  0,  0,  1, 10],\n",
       "        [ 0,  0,  0,  0,  0,  0,  0,  0,  0,  0,  0,  0],\n",
       "        [ 0,  0,  0,  0,  0,  0,  0,  0,  0,  0,  0,  0],\n",
       "        [ 0,  0,  0,  0,  0,  0,  0,  0,  0,  0,  0,  0]],\n",
       "\n",
       "       [[ 0,  0,  0,  0,  0,  0,  0,  0,  0,  0,  0,  0],\n",
       "        [ 0,  0,  0,  0,  0,  0,  0,  0,  0,  0,  0,  0],\n",
       "        [ 0,  0,  0,  0,  0,  0,  0,  0,  0,  0,  0,  0],\n",
       "        [ 0,  0,  0,  0,  0,  0,  0,  0,  0,  0,  0,  0]],\n",
       "\n",
       "       [[ 0,  0,  1,  0,  0,  0,  1,  0,  1,  1,  0, 25],\n",
       "        [ 0,  0,  1,  0,  0,  0,  1,  0,  1,  1,  0, 25],\n",
       "        [ 0,  0,  1,  0,  0,  0,  1,  0,  1,  1,  0, 15],\n",
       "        [ 0,  0,  0,  0,  0,  0,  0,  0,  0,  0,  0,  0]],\n",
       "\n",
       "       [[ 0,  0,  0,  0,  0,  0,  0,  0,  0,  0,  0,  0],\n",
       "        [ 0,  0,  0,  0,  0,  0,  0,  0,  0,  0,  0,  0],\n",
       "        [ 0,  0,  0,  0,  0,  0,  0,  0,  0,  0,  0,  0],\n",
       "        [ 0,  0,  0,  0,  0,  0,  0,  0,  0,  0,  0,  0]],\n",
       "\n",
       "       [[ 0,  0,  1,  0,  0,  0,  1,  0,  1,  1,  0, 25],\n",
       "        [ 0,  0,  0,  0,  0,  0,  0,  0,  0,  0,  0,  0],\n",
       "        [ 0,  0,  0,  0,  0,  0,  0,  0,  0,  0,  0,  0],\n",
       "        [ 0,  0,  0,  0,  0,  0,  0,  0,  0,  0,  0,  0]],\n",
       "\n",
       "       [[ 0,  0,  1,  0,  0,  0,  1,  0,  1,  1,  0, 25],\n",
       "        [ 0,  0,  1,  0,  0,  0,  1,  0,  1,  1,  0, 25],\n",
       "        [ 0,  0,  0,  0,  0,  0,  0,  0,  0,  0,  0,  0],\n",
       "        [ 0,  0,  0,  0,  0,  0,  0,  0,  0,  0,  0,  0]],\n",
       "\n",
       "       [[ 0,  0,  1,  0,  0,  0,  1,  0,  1,  1,  0, 25],\n",
       "        [ 0,  0,  1,  0,  0,  0,  1,  0,  1,  1,  0, 25],\n",
       "        [ 0,  0,  1,  0,  0,  0,  1,  0,  1,  1,  0, 15],\n",
       "        [ 0,  0,  1,  0,  0,  0,  1,  0,  1,  1,  0, 10]]], dtype=int32)"
      ]
     },
     "execution_count": 89,
     "metadata": {},
     "output_type": "execute_result"
    }
   ],
   "source": [
    "max_length = max([len(i) for i in z])\n",
    "max_length\n",
    "from tensorflow.keras.preprocessing.sequence import pad_sequences\n",
    "from sklearn.feature_extraction.text import CountVectorizer\n",
    "title = CountVectorizer(min_df=0, lowercase=False)\n",
    "title.fit([item['title'] for span in z for item in span])\n",
    "subject = CountVectorizer(min_df=0, lowercase=False)\n",
    "subject.fit([item['subject'] for span in z for item in span])\n",
    "data = []\n",
    "for i in z:\n",
    "    titles = title.transform([ent['title'] for ent in i]).toarray()\n",
    "    subjects = subject.transform([ent['subject'] for ent in i]).toarray()\n",
    "    time = np.asarray([[ent['time']] for ent in i]).reshape(-1,1)\n",
    "    dat = np.concatenate((titles, subjects,time), axis=1)\n",
    "    data.append(dat)\n",
    "    \n",
    "pad_sequences(data,padding='post')"
   ]
  },
  {
   "cell_type": "markdown",
   "metadata": {},
   "source": [
    "convert both title and subject to one hot encoded matrices because the datasets are both categorical and orthogonal to each other"
   ]
  },
  {
   "cell_type": "code",
   "execution_count": 12,
   "metadata": {},
   "outputs": [],
   "source": [
    "from sklearn.feature_extraction.text import CountVectorizer\n",
    "vectorizer = CountVectorizer(min_df=0, lowercase=False)"
   ]
  },
  {
   "cell_type": "code",
   "execution_count": 13,
   "metadata": {},
   "outputs": [],
   "source": [
    "def toCategorical(data):\n",
    "    vectorizer.fit(data)\n",
    "    return vectorizer.transform(data).toarray()"
   ]
  },
  {
   "cell_type": "code",
   "execution_count": 86,
   "metadata": {},
   "outputs": [],
   "source": [
    "title = toCategorical([i[1] for i in x])"
   ]
  },
  {
   "cell_type": "code",
   "execution_count": 87,
   "metadata": {},
   "outputs": [],
   "source": [
    "subjects = toCategorical([i[0] for i in x])"
   ]
  },
  {
   "cell_type": "code",
   "execution_count": 88,
   "metadata": {},
   "outputs": [
    {
     "data": {
      "text/plain": [
       "array([[0, 0, 0, 1, 0, 0, 0, 0, 1, 0, 0, 1, 0],\n",
       "       [1, 1, 0, 0, 1, 0, 0, 0, 0, 0, 0, 1, 0],\n",
       "       [0, 0, 0, 0, 0, 1, 1, 0, 0, 1, 0, 0, 1],\n",
       "       [0, 0, 1, 0, 0, 0, 0, 1, 0, 0, 1, 1, 0],\n",
       "       [0, 0, 1, 0, 0, 0, 0, 1, 0, 0, 1, 1, 0],\n",
       "       [0, 0, 1, 0, 0, 0, 0, 1, 0, 0, 1, 1, 0],\n",
       "       [0, 0, 1, 0, 0, 0, 0, 1, 0, 0, 1, 1, 0],\n",
       "       [0, 0, 1, 0, 0, 0, 0, 1, 0, 0, 1, 1, 0]])"
      ]
     },
     "execution_count": 88,
     "metadata": {},
     "output_type": "execute_result"
    }
   ],
   "source": [
    "x = np.concatenate((title,subjects),axis=1)\n",
    "x"
   ]
  },
  {
   "cell_type": "markdown",
   "metadata": {},
   "source": [
    "## normalize the prediction values to aid the neural net in fitting the data"
   ]
  },
  {
   "cell_type": "code",
   "execution_count": 226,
   "metadata": {},
   "outputs": [],
   "source": [
    "def Normalize(data, mean_data =None, std_data =None):\n",
    "    if not mean_data:\n",
    "        mean_data = np.mean(data)\n",
    "    if not std_data:\n",
    "        std_data = np.std(data)\n",
    "    norm_data = (data-mean_data)/std_data\n",
    "    return norm_data, mean_data, std_data\n",
    "\n",
    "X_train, X_test, y_train, y_test = train_test_split(x, y, test_size=0.2)\n",
    "\n",
    "\n",
    "Y_train, ymean_data, ystd_data = Normalize(y_train)\n",
    "Y_test,_,_ = Normalize(y_test, ymean_data, ystd_data)"
   ]
  },
  {
   "cell_type": "code",
   "execution_count": 229,
   "metadata": {},
   "outputs": [
    {
     "name": "stdout",
     "output_type": "stream",
     "text": [
      "(6, 13)\n",
      "[[ 0.        ]\n",
      " [ 0.        ]\n",
      " [ 0.        ]\n",
      " [ 0.        ]\n",
      " [ 1.73205081]\n",
      " [-1.73205081]]\n",
      "[[0 0 1 0 0 0 0 1 0 0 1 1 0]\n",
      " [1 1 0 0 1 0 0 0 0 0 0 1 0]]\n",
      "[[0.        ]\n",
      " [1.73205081]]\n"
     ]
    }
   ],
   "source": [
    "print(X_train)\n",
    "print(Y_train)\n",
    "print(X_test)\n",
    "print(Y_test)"
   ]
  },
  {
   "cell_type": "code",
   "execution_count": 230,
   "metadata": {},
   "outputs": [],
   "source": [
    "from tensorflow.keras import layers\n",
    "image_input = Input((32, 32, 3))\n",
    "vector_input = Input((6,))\n",
    "\n",
    "model = tf.keras.Sequential()\n",
    "# Adds a densely-connected layer with 64 units to the model:\n",
    "model.add(layers.Dense(12, activation='relu',input_shape=(x.shape[1],)))\n",
    "# Add an output layer with 10 output units:\n",
    "model.add(layers.Dense(6, activation='relu'))\n",
    "model.add(layers.Dense(1))\n",
    "model.compile(optimizer=tf.keras.optimizers.Adam(0.01),\n",
    "              loss='mse',       # mean squared error\n",
    "              metrics=['mae'])  # mean absolute error"
   ]
  },
  {
   "cell_type": "code",
   "execution_count": 231,
   "metadata": {},
   "outputs": [
    {
     "name": "stdout",
     "output_type": "stream",
     "text": [
      "Epoch 1/30\n",
      "1/1 [==============================] - 0s 92ms/step - loss: 1.3695 - mae: 1.0205 - val_loss: 1.4559 - val_mae: 1.0351\n",
      "Epoch 2/30\n",
      "1/1 [==============================] - 0s 34ms/step - loss: 1.1741 - mae: 0.8633 - val_loss: 1.2856 - val_mae: 0.9054\n",
      "Epoch 3/30\n",
      "1/1 [==============================] - 0s 34ms/step - loss: 1.0481 - mae: 0.7201 - val_loss: 1.1711 - val_mae: 0.7931\n",
      "Epoch 4/30\n",
      "1/1 [==============================] - 0s 36ms/step - loss: 0.9737 - mae: 0.5943 - val_loss: 1.0916 - val_mae: 0.7620\n",
      "Epoch 5/30\n",
      "1/1 [==============================] - 0s 32ms/step - loss: 0.9248 - mae: 0.5715 - val_loss: 1.0538 - val_mae: 0.7861\n",
      "Epoch 6/30\n",
      "1/1 [==============================] - 0s 41ms/step - loss: 0.8830 - mae: 0.6070 - val_loss: 1.0321 - val_mae: 0.8038\n",
      "Epoch 7/30\n",
      "1/1 [==============================] - 0s 44ms/step - loss: 0.8412 - mae: 0.6271 - val_loss: 1.0181 - val_mae: 0.8146\n",
      "Epoch 8/30\n",
      "1/1 [==============================] - 0s 41ms/step - loss: 0.7847 - mae: 0.6306 - val_loss: 1.0076 - val_mae: 0.8189\n",
      "Epoch 9/30\n",
      "1/1 [==============================] - 0s 41ms/step - loss: 0.7214 - mae: 0.6212 - val_loss: 0.9994 - val_mae: 0.8179\n",
      "Epoch 10/30\n",
      "1/1 [==============================] - 0s 40ms/step - loss: 0.6711 - mae: 0.6063 - val_loss: 0.9888 - val_mae: 0.8120\n",
      "Epoch 11/30\n",
      "1/1 [==============================] - 0s 42ms/step - loss: 0.6345 - mae: 0.5894 - val_loss: 0.9758 - val_mae: 0.8018\n",
      "Epoch 12/30\n",
      "1/1 [==============================] - 0s 45ms/step - loss: 0.5949 - mae: 0.5663 - val_loss: 0.9609 - val_mae: 0.7878\n",
      "Epoch 13/30\n",
      "1/1 [==============================] - 0s 49ms/step - loss: 0.5531 - mae: 0.5376 - val_loss: 0.9442 - val_mae: 0.7704\n",
      "Epoch 14/30\n",
      "1/1 [==============================] - 0s 38ms/step - loss: 0.5101 - mae: 0.5042 - val_loss: 0.9264 - val_mae: 0.7516\n",
      "Epoch 15/30\n",
      "1/1 [==============================] - 0s 41ms/step - loss: 0.4712 - mae: 0.4699 - val_loss: 0.9122 - val_mae: 0.7330\n",
      "Epoch 16/30\n",
      "1/1 [==============================] - 0s 45ms/step - loss: 0.4336 - mae: 0.4335 - val_loss: 0.9000 - val_mae: 0.7141\n",
      "Epoch 17/30\n",
      "1/1 [==============================] - 0s 38ms/step - loss: 0.3969 - mae: 0.3951 - val_loss: 0.8857 - val_mae: 0.6940\n",
      "Epoch 18/30\n",
      "1/1 [==============================] - 0s 41ms/step - loss: 0.3628 - mae: 0.3561 - val_loss: 0.8704 - val_mae: 0.6813\n",
      "Epoch 19/30\n",
      "1/1 [==============================] - 0s 35ms/step - loss: 0.3324 - mae: 0.3278 - val_loss: 0.8527 - val_mae: 0.6627\n",
      "Epoch 20/30\n",
      "1/1 [==============================] - 0s 41ms/step - loss: 0.3028 - mae: 0.2918 - val_loss: 0.8335 - val_mae: 0.6489\n",
      "Epoch 21/30\n",
      "1/1 [==============================] - 0s 36ms/step - loss: 0.2753 - mae: 0.2621 - val_loss: 0.8134 - val_mae: 0.6521\n",
      "Epoch 22/30\n",
      "1/1 [==============================] - 0s 32ms/step - loss: 0.2505 - mae: 0.2552 - val_loss: 0.7936 - val_mae: 0.6505\n",
      "Epoch 23/30\n",
      "1/1 [==============================] - 0s 35ms/step - loss: 0.2281 - mae: 0.2411 - val_loss: 0.7781 - val_mae: 0.6458\n",
      "Epoch 24/30\n",
      "1/1 [==============================] - 0s 41ms/step - loss: 0.2079 - mae: 0.2204 - val_loss: 0.7648 - val_mae: 0.6385\n",
      "Epoch 25/30\n",
      "1/1 [==============================] - 0s 48ms/step - loss: 0.1898 - mae: 0.2135 - val_loss: 0.7560 - val_mae: 0.6305\n",
      "Epoch 26/30\n",
      "1/1 [==============================] - 0s 182ms/step - loss: 0.1737 - mae: 0.2117 - val_loss: 0.7539 - val_mae: 0.6213\n",
      "Epoch 27/30\n",
      "1/1 [==============================] - 0s 45ms/step - loss: 0.1588 - mae: 0.2022 - val_loss: 0.7620 - val_mae: 0.6183\n",
      "Epoch 28/30\n",
      "1/1 [==============================] - 0s 50ms/step - loss: 0.1446 - mae: 0.1921 - val_loss: 0.7810 - val_mae: 0.6335\n",
      "Epoch 29/30\n",
      "1/1 [==============================] - 0s 40ms/step - loss: 0.1303 - mae: 0.1973 - val_loss: 0.8113 - val_mae: 0.6505\n",
      "Epoch 30/30\n",
      "1/1 [==============================] - 0s 42ms/step - loss: 0.1152 - mae: 0.1959 - val_loss: 0.8526 - val_mae: 0.6681\n"
     ]
    },
    {
     "data": {
      "text/plain": [
       "<tensorflow.python.keras.callbacks.History at 0x7fdc505a7ac0>"
      ]
     },
     "execution_count": 231,
     "metadata": {},
     "output_type": "execute_result"
    }
   ],
   "source": [
    "log_dir = \"rewardlogs/fit/\" + datetime.datetime.now().strftime(\"%Y%m%d-%H%M%S\")\n",
    "tensorboard_callback = tf.keras.callbacks.TensorBoard(log_dir=log_dir, histogram_freq=1)\n",
    "\n",
    "model.fit(X_train, Y_train, \n",
    "          validation_data=(X_test,Y_test), \n",
    "          batch_size=20, \n",
    "          epochs=30,\n",
    "          verbose=1,\n",
    "         callbacks=[tensorboard_callback])"
   ]
  },
  {
   "cell_type": "code",
   "execution_count": 232,
   "metadata": {},
   "outputs": [
    {
     "data": {
      "text/plain": [
       "Reusing TensorBoard on port 6007 (pid 40440), started 0:53:00 ago. (Use '!kill 40440' to kill it.)"
      ]
     },
     "metadata": {},
     "output_type": "display_data"
    },
    {
     "data": {
      "text/html": [
       "\n",
       "      <iframe id=\"tensorboard-frame-4b2b9856b4c8227e\" width=\"100%\" height=\"800\" frameborder=\"0\">\n",
       "      </iframe>\n",
       "      <script>\n",
       "        (function() {\n",
       "          const frame = document.getElementById(\"tensorboard-frame-4b2b9856b4c8227e\");\n",
       "          const url = new URL(\"/\", window.location);\n",
       "          url.port = 6007;\n",
       "          frame.src = url;\n",
       "        })();\n",
       "      </script>\n",
       "  "
      ],
      "text/plain": [
       "<IPython.core.display.HTML object>"
      ]
     },
     "metadata": {},
     "output_type": "display_data"
    }
   ],
   "source": [
    "%tensorboard --logdir rewardlogs/fit\n"
   ]
  },
  {
   "cell_type": "code",
   "execution_count": 179,
   "metadata": {},
   "outputs": [],
   "source": []
  },
  {
   "cell_type": "code",
   "execution_count": 178,
   "metadata": {},
   "outputs": [],
   "source": []
  },
  {
   "cell_type": "code",
   "execution_count": 177,
   "metadata": {},
   "outputs": [
    {
     "data": {
      "text/plain": [
       "LabelEncoder()"
      ]
     },
     "execution_count": 177,
     "metadata": {},
     "output_type": "execute_result"
    }
   ],
   "source": []
  },
  {
   "cell_type": "code",
   "execution_count": 197,
   "metadata": {},
   "outputs": [
    {
     "data": {
      "text/plain": [
       "array([[0, 0, 0, 1, 0, 0, 0, 0, 1, 0, 0, 1, 0],\n",
       "       [1, 1, 0, 0, 1, 0, 0, 0, 0, 0, 0, 1, 0],\n",
       "       [0, 0, 0, 0, 0, 1, 1, 0, 0, 1, 0, 0, 1],\n",
       "       [0, 0, 1, 0, 0, 0, 0, 1, 0, 0, 1, 1, 0],\n",
       "       [0, 0, 1, 0, 0, 0, 0, 1, 0, 0, 1, 1, 0],\n",
       "       [0, 0, 1, 0, 0, 0, 0, 1, 0, 0, 1, 1, 0],\n",
       "       [0, 0, 1, 0, 0, 0, 0, 1, 0, 0, 1, 1, 0],\n",
       "       [0, 0, 1, 0, 0, 0, 0, 1, 0, 0, 1, 1, 0]])"
      ]
     },
     "execution_count": 197,
     "metadata": {},
     "output_type": "execute_result"
    }
   ],
   "source": []
  },
  {
   "cell_type": "code",
   "execution_count": null,
   "metadata": {},
   "outputs": [],
   "source": []
  },
  {
   "cell_type": "code",
   "execution_count": null,
   "metadata": {},
   "outputs": [],
   "source": []
  }
 ],
 "metadata": {
  "kernelspec": {
   "display_name": "Python 3",
   "language": "python",
   "name": "python3"
  },
  "language_info": {
   "codemirror_mode": {
    "name": "ipython",
    "version": 3
   },
   "file_extension": ".py",
   "mimetype": "text/x-python",
   "name": "python",
   "nbconvert_exporter": "python",
   "pygments_lexer": "ipython3",
   "version": "3.8.2"
  }
 },
 "nbformat": 4,
 "nbformat_minor": 4
}
