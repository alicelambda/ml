{
 "cells": [
  {
   "cell_type": "code",
   "execution_count": 1,
   "metadata": {},
   "outputs": [],
   "source": [
    "import tensorflow as tf\n",
    "from tensorflow import keras\n",
    "from sklearn.model_selection import train_test_split\n",
    "import random\n",
    "import datetime\n",
    "%load_ext tensorboard"
   ]
  },
  {
   "cell_type": "code",
   "execution_count": 2,
   "metadata": {},
   "outputs": [],
   "source": [
    "from google.cloud import datastore\n",
    "import os\n",
    "os.environ[\"GOOGLE_APPLICATION_CREDENTIALS\"] = \\\n",
    "    \"/home/alice/Downloads/HCL-customer-application-c05a56fa9ccc.json\"\n",
    "\n",
    "\n",
    "client = datastore.Client()\n",
    "query = client.query(kind=\"pricedata\")\n",
    "x = []\n",
    "y = []\n",
    "for i in query.fetch():\n",
    "    x.append([i['smolprice'], i['chonkprice'], i['absprice'],i[\"balance\"]])\n",
    "    y.append([i['coins']])\n"
   ]
  },
  {
   "cell_type": "code",
   "execution_count": 3,
   "metadata": {},
   "outputs": [],
   "source": [
    "from tensorflow.keras import layers\n",
    "\n",
    "model = tf.keras.Sequential()\n",
    "# Adds a densely-connected layer with 64 units to the model:\n",
    "model.add(layers.Dense(4, activation='relu',input_shape=(4,)))\n",
    "model.add(layers.Dense(3, activation='relu',input_shape=(4,)))\n",
    "\n",
    "# Add an output layer with 10 output units:\n",
    "model.add(layers.Dense(1))"
   ]
  },
  {
   "cell_type": "code",
   "execution_count": 4,
   "metadata": {},
   "outputs": [],
   "source": [
    "model.compile(optimizer=tf.keras.optimizers.Adam(0.01),\n",
    "              loss='mse',       # mean squared error\n",
    "              metrics=['mae'])  # mean absolute error"
   ]
  },
  {
   "cell_type": "code",
   "execution_count": 5,
   "metadata": {},
   "outputs": [],
   "source": [
    "import numpy as np"
   ]
  },
  {
   "cell_type": "code",
   "execution_count": 6,
   "metadata": {},
   "outputs": [
    {
     "name": "stdout",
     "output_type": "stream",
     "text": [
      "[[   5  205  155 1549]\n",
      " [   5  355  355 1549]\n",
      " [ 205   55   55   56]\n",
      " [   5  355  355 1549]\n",
      " [   5  355  355 1549]\n",
      " [  50  300  500   38]\n",
      " [   5  505  555 1204]]\n",
      "[[ 40]\n",
      " [150]\n",
      " [230]\n",
      " [280]\n",
      " [  0]\n",
      " [904]\n",
      " [360]]\n",
      "(7, 4)\n",
      "(7, 1)\n"
     ]
    }
   ],
   "source": [
    "data = np.asarray(x)\n",
    "target = np.asarray(y)\n",
    "print(data)\n",
    "print(target)\n",
    "print(data.shape)\n",
    "print(target.shape)"
   ]
  },
  {
   "cell_type": "code",
   "execution_count": 7,
   "metadata": {},
   "outputs": [],
   "source": [
    "\n",
    "def Normalize(data, mean_data =None, std_data =None):\n",
    "    if not mean_data:\n",
    "        mean_data = np.mean(data)\n",
    "    if not std_data:\n",
    "        std_data = np.std(data)\n",
    "    if std_data == 0:\n",
    "        norm_data = (data-mean_data)\n",
    "    else:\n",
    "        norm_data = (data-mean_data)/std_data\n",
    "    return norm_data, mean_data, std_data\n",
    "\n",
    "X_train, X_test, y_train, y_test = train_test_split(data, target, test_size=0.2)\n",
    "\n",
    "X_train, xmean_data, xstd_data = Normalize(X_train)\n",
    "X_test, _, _ = Normalize(X_test, xmean_data, xstd_data)\n",
    "\n",
    "Y_train, ymean_data, ystd_data = Normalize(y_train)\n",
    "Y_test,_,_ = Normalize(y_test, ymean_data, ystd_data)"
   ]
  },
  {
   "cell_type": "code",
   "execution_count": 8,
   "metadata": {},
   "outputs": [
    {
     "name": "stdout",
     "output_type": "stream",
     "text": [
      "[[-0.41859077 -0.73602563 -0.73602563 -0.7339094 ]\n",
      " [-0.84183725 -0.10115591 -0.10115591  2.42562558]\n",
      " [-0.84183725 -0.10115591 -0.10115591  2.42562558]\n",
      " [-0.74660679 -0.21754869  0.20569779 -0.77200158]\n",
      " [-0.84183725  0.21627895  0.32209057  1.6955254 ]]\n",
      "[[-0.31832276]\n",
      " [-0.57607398]\n",
      " [-1.05935752]\n",
      " [ 1.85323128]\n",
      " [ 0.10052298]]\n"
     ]
    }
   ],
   "source": [
    "print(X_train)\n",
    "print(Y_train)"
   ]
  },
  {
   "cell_type": "code",
   "execution_count": 9,
   "metadata": {},
   "outputs": [
    {
     "name": "stdout",
     "output_type": "stream",
     "text": [
      "[[-0.84183725 -0.10115591 -0.10115591  2.42562558]\n",
      " [-0.84183725 -0.41859077 -0.52440239  2.42562558]]\n",
      "[[-0.15722824]\n",
      " [-0.93048191]]\n"
     ]
    }
   ],
   "source": [
    "print(X_test)\n",
    "print(Y_test)"
   ]
  },
  {
   "cell_type": "code",
   "execution_count": 10,
   "metadata": {},
   "outputs": [
    {
     "name": "stdout",
     "output_type": "stream",
     "text": [
      "Epoch 1/25\n",
      "1/1 [==============================] - 0s 219ms/step - loss: 2.2670 - mae: 1.3411 - val_loss: 2.4195 - val_mae: 1.5124\n",
      "Epoch 2/25\n",
      "1/1 [==============================] - 0s 32ms/step - loss: 2.1226 - mae: 1.2920 - val_loss: 2.1759 - val_mae: 1.4297\n",
      "Epoch 3/25\n",
      "1/1 [==============================] - 0s 34ms/step - loss: 1.9926 - mae: 1.2451 - val_loss: 1.9569 - val_mae: 1.3510\n",
      "Epoch 4/25\n",
      "1/1 [==============================] - 0s 29ms/step - loss: 1.8759 - mae: 1.2004 - val_loss: 1.7610 - val_mae: 1.2764\n",
      "Epoch 5/25\n",
      "1/1 [==============================] - 0s 29ms/step - loss: 1.7718 - mae: 1.1581 - val_loss: 1.5861 - val_mae: 1.2059\n",
      "Epoch 6/25\n",
      "1/1 [==============================] - 0s 29ms/step - loss: 1.6792 - mae: 1.1180 - val_loss: 1.4306 - val_mae: 1.1396\n",
      "Epoch 7/25\n",
      "1/1 [==============================] - 0s 39ms/step - loss: 1.5971 - mae: 1.0802 - val_loss: 1.2928 - val_mae: 1.0774\n",
      "Epoch 8/25\n",
      "1/1 [==============================] - 0s 34ms/step - loss: 1.5246 - mae: 1.0447 - val_loss: 1.1709 - val_mae: 1.0191\n",
      "Epoch 9/25\n",
      "1/1 [==============================] - 0s 32ms/step - loss: 1.4609 - mae: 1.0115 - val_loss: 1.0634 - val_mae: 0.9648\n",
      "Epoch 10/25\n",
      "1/1 [==============================] - 0s 35ms/step - loss: 1.4049 - mae: 0.9804 - val_loss: 0.9687 - val_mae: 0.9143\n",
      "Epoch 11/25\n",
      "1/1 [==============================] - 0s 32ms/step - loss: 1.3571 - mae: 0.9517 - val_loss: 0.8855 - val_mae: 0.8675\n",
      "Epoch 12/25\n",
      "1/1 [==============================] - 0s 31ms/step - loss: 1.3187 - mae: 0.9259 - val_loss: 0.8124 - val_mae: 0.8242\n",
      "Epoch 13/25\n",
      "1/1 [==============================] - 0s 36ms/step - loss: 1.2854 - mae: 0.9020 - val_loss: 0.7484 - val_mae: 0.7842\n",
      "Epoch 14/25\n",
      "1/1 [==============================] - 0s 41ms/step - loss: 1.2566 - mae: 0.8798 - val_loss: 0.6924 - val_mae: 0.7474\n",
      "Epoch 15/25\n",
      "1/1 [==============================] - 0s 38ms/step - loss: 1.2317 - mae: 0.8594 - val_loss: 0.6433 - val_mae: 0.7137\n",
      "Epoch 16/25\n",
      "1/1 [==============================] - 0s 38ms/step - loss: 1.2103 - mae: 0.8406 - val_loss: 0.6005 - val_mae: 0.6828\n",
      "Epoch 17/25\n",
      "1/1 [==============================] - 0s 45ms/step - loss: 1.1917 - mae: 0.8233 - val_loss: 0.5631 - val_mae: 0.6546\n",
      "Epoch 18/25\n",
      "1/1 [==============================] - 0s 31ms/step - loss: 1.1757 - mae: 0.8134 - val_loss: 0.5304 - val_mae: 0.6289\n",
      "Epoch 19/25\n",
      "1/1 [==============================] - 0s 29ms/step - loss: 1.1618 - mae: 0.8077 - val_loss: 0.5019 - val_mae: 0.6056\n",
      "Epoch 20/25\n",
      "1/1 [==============================] - 0s 32ms/step - loss: 1.1497 - mae: 0.8025 - val_loss: 0.4771 - val_mae: 0.5845\n",
      "Epoch 21/25\n",
      "1/1 [==============================] - 0s 30ms/step - loss: 1.1392 - mae: 0.7977 - val_loss: 0.4555 - val_mae: 0.5655\n",
      "Epoch 22/25\n",
      "1/1 [==============================] - 0s 33ms/step - loss: 1.1299 - mae: 0.7934 - val_loss: 0.4368 - val_mae: 0.5484\n",
      "Epoch 23/25\n",
      "1/1 [==============================] - 0s 36ms/step - loss: 1.1218 - mae: 0.7895 - val_loss: 0.4206 - val_mae: 0.5332\n",
      "Epoch 24/25\n",
      "1/1 [==============================] - 0s 33ms/step - loss: 1.1145 - mae: 0.7860 - val_loss: 0.4065 - val_mae: 0.5196\n",
      "Epoch 25/25\n",
      "1/1 [==============================] - 0s 30ms/step - loss: 1.1080 - mae: 0.7828 - val_loss: 0.3944 - val_mae: 0.5076\n"
     ]
    },
    {
     "data": {
      "text/plain": [
       "<tensorflow.python.keras.callbacks.History at 0x7f9cf05c8eb0>"
      ]
     },
     "execution_count": 10,
     "metadata": {},
     "output_type": "execute_result"
    }
   ],
   "source": [
    "model.fit(X_train, Y_train,\n",
    "          validation_data=(X_test,Y_test), \n",
    "          batch_size=20, \n",
    "          epochs=25,\n",
    "          verbose=1)"
   ]
  },
  {
   "cell_type": "code",
   "execution_count": 11,
   "metadata": {},
   "outputs": [
    {
     "name": "stdout",
     "output_type": "stream",
     "text": [
      "Model: \"sequential\"\n",
      "_________________________________________________________________\n",
      "Layer (type)                 Output Shape              Param #   \n",
      "=================================================================\n",
      "dense (Dense)                (None, 4)                 20        \n",
      "_________________________________________________________________\n",
      "dense_1 (Dense)              (None, 3)                 15        \n",
      "_________________________________________________________________\n",
      "dense_2 (Dense)              (None, 1)                 4         \n",
      "=================================================================\n",
      "Total params: 39\n",
      "Trainable params: 39\n",
      "Non-trainable params: 0\n",
      "_________________________________________________________________\n",
      "None\n"
     ]
    }
   ],
   "source": [
    "print(model.summary())"
   ]
  },
  {
   "cell_type": "code",
   "execution_count": 12,
   "metadata": {},
   "outputs": [
    {
     "data": {
      "text/html": [
       "\n",
       "      <iframe id=\"tensorboard-frame-1568b534762e609e\" width=\"100%\" height=\"800\" frameborder=\"0\">\n",
       "      </iframe>\n",
       "      <script>\n",
       "        (function() {\n",
       "          const frame = document.getElementById(\"tensorboard-frame-1568b534762e609e\");\n",
       "          const url = new URL(\"/\", window.location);\n",
       "          url.port = 6006;\n",
       "          frame.src = url;\n",
       "        })();\n",
       "      </script>\n",
       "  "
      ],
      "text/plain": [
       "<IPython.core.display.HTML object>"
      ]
     },
     "metadata": {},
     "output_type": "display_data"
    }
   ],
   "source": [
    "%tensorboard --logdir logs/fit\n"
   ]
  },
  {
   "cell_type": "code",
   "execution_count": 13,
   "metadata": {},
   "outputs": [],
   "source": [
    "key = client.key(\"thoughtcoins\", 5713227891605504)\n",
    "entity = client.get(key=key)\n",
    "balance = entity[\"balance\"]"
   ]
  },
  {
   "cell_type": "code",
   "execution_count": 14,
   "metadata": {},
   "outputs": [
    {
     "data": {
      "text/plain": [
       "659"
      ]
     },
     "execution_count": 14,
     "metadata": {},
     "output_type": "execute_result"
    }
   ],
   "source": [
    "balance"
   ]
  },
  {
   "cell_type": "code",
   "execution_count": null,
   "metadata": {},
   "outputs": [],
   "source": [
    "data = []\n",
    "maxval = 0\n",
    "stepsize = 50\n",
    "maxvaldat = [[5, 5, 5]]\n",
    "for smol in range(5, 600, stepsize):\n",
    "    for chonk in range(5, 600, stepsize):\n",
    "        for abso in range(5, 600, stepsize):\n",
    "            x = np.array([[smol, chonk, abso,balance]])\n",
    "            dat = Normalize(x, xmean_data, xstd_data)[0]\n",
    "            pred = model.predict(dat)\n",
    "            data.append([smol,chonk,abso,pred[0][0] *ystd_data + ymean_data])\n",
    "            if(pred > maxval):\n",
    "                maxval = pred\n",
    "                maxvaldat = [[smol, chonk, abso]]\n"
   ]
  },
  {
   "cell_type": "code",
   "execution_count": null,
   "metadata": {},
   "outputs": [],
   "source": []
  },
  {
   "cell_type": "code",
   "execution_count": null,
   "metadata": {},
   "outputs": [],
   "source": [
    "def keyfunc(e):\n",
    "    return e[3]"
   ]
  },
  {
   "cell_type": "code",
   "execution_count": null,
   "metadata": {},
   "outputs": [],
   "source": [
    "data.sort(reverse=True,key=keyfunc)"
   ]
  },
  {
   "cell_type": "code",
   "execution_count": null,
   "metadata": {},
   "outputs": [],
   "source": [
    "data"
   ]
  },
  {
   "cell_type": "code",
   "execution_count": 37,
   "metadata": {},
   "outputs": [
    {
     "data": {
      "text/plain": [
       "[5, 355, 355, 905.5231948996241]"
      ]
     },
     "execution_count": 37,
     "metadata": {},
     "output_type": "execute_result"
    }
   ],
   "source": [
    "newprice = random.choice(data[:20])\n",
    "newprice"
   ]
  },
  {
   "cell_type": "code",
   "execution_count": 38,
   "metadata": {},
   "outputs": [],
   "source": [
    "client = datastore.Client()\n",
    "key = client.key('prices', 5631671361601536)\n",
    "entity = datastore.Entity(key=key)\n",
    "entity.update({\n",
    "    \"smolprice\": newprice[0],\n",
    "    \"chonkprice\": newprice[1],\n",
    "   \"absprice\": newprice[2]    })\n",
    "client.put(entity)"
   ]
  },
  {
   "cell_type": "markdown",
   "metadata": {},
   "source": [
    "## import matplotlib.pyplot as plt"
   ]
  },
  {
   "cell_type": "code",
   "execution_count": 111,
   "metadata": {},
   "outputs": [
    {
     "data": {
      "text/plain": [
       "2.0"
      ]
     },
     "execution_count": 111,
     "metadata": {},
     "output_type": "execute_result"
    }
   ],
   "source": [
    "(8-2)/3"
   ]
  },
  {
   "cell_type": "code",
   "execution_count": 112,
   "metadata": {},
   "outputs": [
    {
     "data": {
      "text/plain": [
       "8.0"
      ]
     },
     "execution_count": 112,
     "metadata": {},
     "output_type": "execute_result"
    }
   ],
   "source": [
    "2.0*3+2"
   ]
  },
  {
   "cell_type": "code",
   "execution_count": null,
   "metadata": {},
   "outputs": [],
   "source": []
  }
 ],
 "metadata": {
  "kernelspec": {
   "display_name": "Python 3",
   "language": "python",
   "name": "python3"
  },
  "language_info": {
   "codemirror_mode": {
    "name": "ipython",
    "version": 3
   },
   "file_extension": ".py",
   "mimetype": "text/x-python",
   "name": "python",
   "nbconvert_exporter": "python",
   "pygments_lexer": "ipython3",
   "version": "3.8.2"
  }
 },
 "nbformat": 4,
 "nbformat_minor": 4
}
